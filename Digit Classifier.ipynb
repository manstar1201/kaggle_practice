{
 "cells": [
  {
   "cell_type": "code",
   "execution_count": 1,
   "id": "51bc96b3",
   "metadata": {
    "_cell_guid": "b1076dfc-b9ad-4769-8c92-a6c4dae69d19",
    "_uuid": "8f2839f25d086af736a60e9eeb907d3b93b6e0e5",
    "execution": {
     "iopub.execute_input": "2022-02-24T11:48:55.143991Z",
     "iopub.status.busy": "2022-02-24T11:48:55.143308Z",
     "iopub.status.idle": "2022-02-24T11:48:55.148552Z",
     "shell.execute_reply": "2022-02-24T11:48:55.149153Z",
     "shell.execute_reply.started": "2022-02-24T11:34:37.382282Z"
    },
    "papermill": {
     "duration": 0.043404,
     "end_time": "2022-02-24T11:48:55.149430",
     "exception": false,
     "start_time": "2022-02-24T11:48:55.106026",
     "status": "completed"
    },
    "tags": []
   },
   "outputs": [
    {
     "name": "stdout",
     "output_type": "stream",
     "text": [
      "/kaggle/input/digit-recognizer/sample_submission.csv\n",
      "/kaggle/input/digit-recognizer/train.csv\n",
      "/kaggle/input/digit-recognizer/test.csv\n"
     ]
    }
   ],
   "source": [
    "# This Python 3 environment comes with many helpful analytics libraries installed\n",
    "# It is defined by the kaggle/python Docker image: https://github.com/kaggle/docker-python\n",
    "# For example, here's several helpful packages to load\n",
    "\n",
    "import numpy as np # linear algebra\n",
    "import pandas as pd # data processing, CSV file I/O (e.g. pd.read_csv)\n",
    "\n",
    "# Input data files are available in the read-only \"../input/\" directory\n",
    "# For example, running this (by clicking run or pressing Shift+Enter) will list all files under the input directory\n",
    "\n",
    "import os\n",
    "for dirname, _, filenames in os.walk('/kaggle/input'):\n",
    "    for filename in filenames:\n",
    "        print(os.path.join(dirname, filename))\n",
    "\n",
    "# You can write up to 20GB to the current directory (/kaggle/working/) that gets preserved as output when you create a version using \"Save & Run All\" \n",
    "# You can also write temporary files to /kaggle/temp/, but they won't be saved outside of the current session"
   ]
  },
  {
   "cell_type": "markdown",
   "id": "61c6a25a",
   "metadata": {
    "execution": {
     "iopub.execute_input": "2022-02-24T01:51:34.171726Z",
     "iopub.status.busy": "2022-02-24T01:51:34.171472Z",
     "iopub.status.idle": "2022-02-24T01:51:34.17609Z",
     "shell.execute_reply": "2022-02-24T01:51:34.175211Z",
     "shell.execute_reply.started": "2022-02-24T01:51:34.171698Z"
    },
    "papermill": {
     "duration": 0.025725,
     "end_time": "2022-02-24T11:48:55.203958",
     "exception": false,
     "start_time": "2022-02-24T11:48:55.178233",
     "status": "completed"
    },
    "tags": []
   },
   "source": [
    "****Import Library necessary****"
   ]
  },
  {
   "cell_type": "code",
   "execution_count": 2,
   "id": "432892ed",
   "metadata": {
    "execution": {
     "iopub.execute_input": "2022-02-24T11:48:55.263847Z",
     "iopub.status.busy": "2022-02-24T11:48:55.263207Z",
     "iopub.status.idle": "2022-02-24T11:49:01.197756Z",
     "shell.execute_reply": "2022-02-24T11:49:01.196785Z",
     "shell.execute_reply.started": "2022-02-24T11:34:39.471256Z"
    },
    "papermill": {
     "duration": 5.96794,
     "end_time": "2022-02-24T11:49:01.197908",
     "exception": false,
     "start_time": "2022-02-24T11:48:55.229968",
     "status": "completed"
    },
    "tags": []
   },
   "outputs": [],
   "source": [
    "import matplotlib.pyplot as plt\n",
    "import matplotlib.image as mpimg\n",
    "import seaborn as sns\n",
    "%matplotlib inline\n",
    "\n",
    "np.random.seed(2)\n",
    "\n",
    "from sklearn.model_selection import train_test_split\n",
    "from sklearn.metrics import confusion_matrix\n",
    "import itertools\n",
    "\n",
    "import tensorflow as tf\n",
    "import tensorflow.keras.layers as tfl\n",
    "\n",
    "from tensorflow.keras.utils import to_categorical\n",
    "from tensorflow.keras.models import Sequential\n",
    "from tensorflow.keras.callbacks import ReduceLROnPlateau\n",
    "from tensorflow.keras.preprocessing.image import ImageDataGenerator\n",
    "\n",
    "sns.set(style = 'white', context = 'notebook', palette = 'deep')"
   ]
  },
  {
   "cell_type": "markdown",
   "id": "0c1fa4cc",
   "metadata": {
    "papermill": {
     "duration": 0.025618,
     "end_time": "2022-02-24T11:49:01.252088",
     "exception": false,
     "start_time": "2022-02-24T11:49:01.226470",
     "status": "completed"
    },
    "tags": []
   },
   "source": [
    "****Data preparation****"
   ]
  },
  {
   "cell_type": "code",
   "execution_count": 3,
   "id": "28e54ab7",
   "metadata": {
    "execution": {
     "iopub.execute_input": "2022-02-24T11:49:01.308088Z",
     "iopub.status.busy": "2022-02-24T11:49:01.307441Z",
     "iopub.status.idle": "2022-02-24T11:49:06.568377Z",
     "shell.execute_reply": "2022-02-24T11:49:06.567896Z",
     "shell.execute_reply.started": "2022-02-24T11:34:47.975139Z"
    },
    "papermill": {
     "duration": 5.290548,
     "end_time": "2022-02-24T11:49:06.568521",
     "exception": false,
     "start_time": "2022-02-24T11:49:01.277973",
     "status": "completed"
    },
    "tags": []
   },
   "outputs": [],
   "source": [
    "train = pd.read_csv(\"../input/digit-recognizer/train.csv\")\n",
    "test = pd.read_csv(\"../input/digit-recognizer/test.csv\")"
   ]
  },
  {
   "cell_type": "code",
   "execution_count": 4,
   "id": "a12dc34e",
   "metadata": {
    "execution": {
     "iopub.execute_input": "2022-02-24T11:49:06.634478Z",
     "iopub.status.busy": "2022-02-24T11:49:06.633950Z",
     "iopub.status.idle": "2022-02-24T11:49:06.983644Z",
     "shell.execute_reply": "2022-02-24T11:49:06.984083Z",
     "shell.execute_reply.started": "2022-02-24T11:34:56.108336Z"
    },
    "papermill": {
     "duration": 0.384229,
     "end_time": "2022-02-24T11:49:06.984232",
     "exception": false,
     "start_time": "2022-02-24T11:49:06.600003",
     "status": "completed"
    },
    "tags": []
   },
   "outputs": [
    {
     "name": "stdout",
     "output_type": "stream",
     "text": [
      "(42000,) (42000, 784)\n"
     ]
    },
    {
     "name": "stderr",
     "output_type": "stream",
     "text": [
      "/opt/conda/lib/python3.7/site-packages/seaborn/_decorators.py:43: FutureWarning: Pass the following variable as a keyword arg: x. From version 0.12, the only valid positional argument will be `data`, and passing other arguments without an explicit keyword will result in an error or misinterpretation.\n",
      "  FutureWarning\n"
     ]
    },
    {
     "data": {
      "image/png": "[encoded data removed]",
      "text/plain": [
       "<Figure size 432x288 with 1 Axes>"
      ]
     },
     "metadata": {},
     "output_type": "display_data"
    }
   ],
   "source": [
    "Y_train = train['label']\n",
    "X_train = train.drop('label', axis = 1)\n",
    "print(Y_train.shape, X_train.shape)\n",
    "g = sns.countplot(Y_train)"
   ]
  },
  {
   "cell_type": "markdown",
   "id": "c7597201",
   "metadata": {
    "papermill": {
     "duration": 0.02771,
     "end_time": "2022-02-24T11:49:07.039879",
     "exception": false,
     "start_time": "2022-02-24T11:49:07.012169",
     "status": "completed"
    },
    "tags": []
   },
   "source": [
    "***Check for null***"
   ]
  },
  {
   "cell_type": "code",
   "execution_count": 5,
   "id": "cf23278e",
   "metadata": {
    "execution": {
     "iopub.execute_input": "2022-02-24T11:49:07.099454Z",
     "iopub.status.busy": "2022-02-24T11:49:07.098157Z",
     "iopub.status.idle": "2022-02-24T11:49:07.165946Z",
     "shell.execute_reply": "2022-02-24T11:49:07.166351Z",
     "shell.execute_reply.started": "2022-02-24T11:34:58.350488Z"
    },
    "papermill": {
     "duration": 0.099477,
     "end_time": "2022-02-24T11:49:07.166487",
     "exception": false,
     "start_time": "2022-02-24T11:49:07.067010",
     "status": "completed"
    },
    "tags": []
   },
   "outputs": [
    {
     "data": {
      "text/plain": [
       "pixel0      0\n",
       "pixel1      0\n",
       "pixel2      0\n",
       "pixel3      0\n",
       "pixel4      0\n",
       "           ..\n",
       "pixel779    0\n",
       "pixel780    0\n",
       "pixel781    0\n",
       "pixel782    0\n",
       "pixel783    0\n",
       "Length: 784, dtype: int64"
      ]
     },
     "execution_count": 5,
     "metadata": {},
     "output_type": "execute_result"
    }
   ],
   "source": [
    "X_train.isnull().sum()\n",
    "test.isnull().sum()"
   ]
  },
  {
   "cell_type": "markdown",
   "id": "82b3d3eb",
   "metadata": {
    "papermill": {
     "duration": 0.027132,
     "end_time": "2022-02-24T11:49:07.221345",
     "exception": false,
     "start_time": "2022-02-24T11:49:07.194213",
     "status": "completed"
    },
    "tags": []
   },
   "source": [
    "***Normalize train and test set***"
   ]
  },
  {
   "cell_type": "code",
   "execution_count": 6,
   "id": "cd6eef87",
   "metadata": {
    "execution": {
     "iopub.execute_input": "2022-02-24T11:49:07.289367Z",
     "iopub.status.busy": "2022-02-24T11:49:07.288465Z",
     "iopub.status.idle": "2022-02-24T11:49:07.459420Z",
     "shell.execute_reply": "2022-02-24T11:49:07.458513Z",
     "shell.execute_reply.started": "2022-02-24T11:35:00.326738Z"
    },
    "papermill": {
     "duration": 0.210818,
     "end_time": "2022-02-24T11:49:07.459562",
     "exception": false,
     "start_time": "2022-02-24T11:49:07.248744",
     "status": "completed"
    },
    "tags": []
   },
   "outputs": [],
   "source": [
    "X_train = X_train / 255\n",
    "test = test / 255"
   ]
  },
  {
   "cell_type": "markdown",
   "id": "75fa55df",
   "metadata": {
    "papermill": {
     "duration": 0.027722,
     "end_time": "2022-02-24T11:49:07.515207",
     "exception": false,
     "start_time": "2022-02-24T11:49:07.487485",
     "status": "completed"
    },
    "tags": []
   },
   "source": [
    "***Reshape train and test set***"
   ]
  },
  {
   "cell_type": "code",
   "execution_count": 7,
   "id": "d54bcabb",
   "metadata": {
    "execution": {
     "iopub.execute_input": "2022-02-24T11:49:07.576701Z",
     "iopub.status.busy": "2022-02-24T11:49:07.575589Z",
     "iopub.status.idle": "2022-02-24T11:49:07.578974Z",
     "shell.execute_reply": "2022-02-24T11:49:07.579406Z",
     "shell.execute_reply.started": "2022-02-24T11:35:02.031833Z"
    },
    "papermill": {
     "duration": 0.036551,
     "end_time": "2022-02-24T11:49:07.579528",
     "exception": false,
     "start_time": "2022-02-24T11:49:07.542977",
     "status": "completed"
    },
    "tags": []
   },
   "outputs": [
    {
     "data": {
      "text/plain": [
       "((42000, 28, 28, 1), (28000, 28, 28, 1))"
      ]
     },
     "execution_count": 7,
     "metadata": {},
     "output_type": "execute_result"
    }
   ],
   "source": [
    "X_train = X_train.values.reshape(-1,28,28,1)\n",
    "test = test.values.reshape(-1,28,28,1)\n",
    "X_train.shape, test.shape"
   ]
  },
  {
   "cell_type": "markdown",
   "id": "ef35b5d6",
   "metadata": {
    "papermill": {
     "duration": 0.027476,
     "end_time": "2022-02-24T11:49:07.634829",
     "exception": false,
     "start_time": "2022-02-24T11:49:07.607353",
     "status": "completed"
    },
    "tags": []
   },
   "source": [
    "***one-hot encoding***"
   ]
  },
  {
   "cell_type": "code",
   "execution_count": 8,
   "id": "3420dcfa",
   "metadata": {
    "execution": {
     "iopub.execute_input": "2022-02-24T11:49:07.693887Z",
     "iopub.status.busy": "2022-02-24T11:49:07.693273Z",
     "iopub.status.idle": "2022-02-24T11:49:07.699195Z",
     "shell.execute_reply": "2022-02-24T11:49:07.698782Z",
     "shell.execute_reply.started": "2022-02-24T11:35:03.699784Z"
    },
    "papermill": {
     "duration": 0.036789,
     "end_time": "2022-02-24T11:49:07.699301",
     "exception": false,
     "start_time": "2022-02-24T11:49:07.662512",
     "status": "completed"
    },
    "tags": []
   },
   "outputs": [
    {
     "data": {
      "text/plain": [
       "(42000, 10)"
      ]
     },
     "execution_count": 8,
     "metadata": {},
     "output_type": "execute_result"
    }
   ],
   "source": [
    "Y_train = to_categorical(Y_train, num_classes = 10)\n",
    "Y_train.shape"
   ]
  },
  {
   "cell_type": "markdown",
   "id": "89af253d",
   "metadata": {
    "papermill": {
     "duration": 0.027965,
     "end_time": "2022-02-24T11:49:07.755369",
     "exception": false,
     "start_time": "2022-02-24T11:49:07.727404",
     "status": "completed"
    },
    "tags": []
   },
   "source": [
    "**Split training and validation set**"
   ]
  },
  {
   "cell_type": "code",
   "execution_count": 9,
   "id": "3022eb9a",
   "metadata": {
    "execution": {
     "iopub.execute_input": "2022-02-24T11:49:07.816106Z",
     "iopub.status.busy": "2022-02-24T11:49:07.815358Z",
     "iopub.status.idle": "2022-02-24T11:49:08.196183Z",
     "shell.execute_reply": "2022-02-24T11:49:08.195659Z",
     "shell.execute_reply.started": "2022-02-24T11:35:05.199110Z"
    },
    "papermill": {
     "duration": 0.412888,
     "end_time": "2022-02-24T11:49:08.196320",
     "exception": false,
     "start_time": "2022-02-24T11:49:07.783432",
     "status": "completed"
    },
    "tags": []
   },
   "outputs": [],
   "source": [
    "X_train, X_val, Y_train, Y_val = train_test_split(X_train, Y_train, test_size = 0.1, random_state = 2)"
   ]
  },
  {
   "cell_type": "code",
   "execution_count": 10,
   "id": "ea18a343",
   "metadata": {
    "execution": {
     "iopub.execute_input": "2022-02-24T11:49:08.270873Z",
     "iopub.status.busy": "2022-02-24T11:49:08.257008Z",
     "iopub.status.idle": "2022-02-24T11:49:08.472205Z",
     "shell.execute_reply": "2022-02-24T11:49:08.472943Z",
     "shell.execute_reply.started": "2022-02-24T11:35:07.351098Z"
    },
    "papermill": {
     "duration": 0.247653,
     "end_time": "2022-02-24T11:49:08.473089",
     "exception": false,
     "start_time": "2022-02-24T11:49:08.225436",
     "status": "completed"
    },
    "tags": []
   },
   "outputs": [
    {
     "data": {
      "image/png": "[encoded data removed]",
      "text/plain": [
       "<Figure size 432x288 with 1 Axes>"
      ]
     },
     "metadata": {},
     "output_type": "display_data"
    }
   ],
   "source": [
    "g = plt.imshow(X_train[0])"
   ]
  },
  {
   "cell_type": "markdown",
   "id": "0b63b72c",
   "metadata": {
    "papermill": {
     "duration": 0.029893,
     "end_time": "2022-02-24T11:49:08.532215",
     "exception": false,
     "start_time": "2022-02-24T11:49:08.502322",
     "status": "completed"
    },
    "tags": []
   },
   "source": [
    "***Define CNN model***"
   ]
  },
  {
   "cell_type": "code",
   "execution_count": 11,
   "id": "70c50d0d",
   "metadata": {
    "execution": {
     "iopub.execute_input": "2022-02-24T11:49:08.598792Z",
     "iopub.status.busy": "2022-02-24T11:49:08.598210Z",
     "iopub.status.idle": "2022-02-24T11:49:08.601497Z",
     "shell.execute_reply": "2022-02-24T11:49:08.601106Z",
     "shell.execute_reply.started": "2022-02-24T11:35:09.015247Z"
    },
    "papermill": {
     "duration": 0.040379,
     "end_time": "2022-02-24T11:49:08.601606",
     "exception": false,
     "start_time": "2022-02-24T11:49:08.561227",
     "status": "completed"
    },
    "tags": []
   },
   "outputs": [],
   "source": [
    "def conv_model(input_shape: tuple):\n",
    "    \n",
    "    input_img = tf.keras.Input(shape = input_shape)\n",
    "    \n",
    "    x1 = tfl.Conv2D(32, (5,5), padding = 'same', activation = 'relu')(input_img)\n",
    "    x1 = tfl.Conv2D(32, (5,5), padding = 'same', activation = 'relu')(x1)\n",
    "    x1 = tfl.MaxPool2D((2,2), (2,2))(x1)\n",
    "    x1 = tfl.Dropout(0.25)(x1)\n",
    "    \n",
    "    x2 = tfl.Conv2D(64, (3,3), padding = 'same', activation = 'relu')(x1)\n",
    "    x2 = tfl.Conv2D(64, (3,3), padding = 'same', activation = 'relu')(x2)\n",
    "    x2 = tfl.MaxPool2D((2,2), (2,2))(x2)\n",
    "    x2 = tfl.Dropout(0.25)(x2)\n",
    "    x2 = tfl.Flatten()(x2)\n",
    "    \n",
    "    x3 = tfl.Dense(256, activation = 'relu')(x2)\n",
    "    x3 = tfl.Dropout(0.5)(x3)\n",
    "    \n",
    "    output = tfl.Dense(10, activation = 'softmax')(x3)\n",
    "    \n",
    "    model = tf.keras.Model(inputs = input_img, outputs = output)\n",
    "    \n",
    "    return model"
   ]
  },
  {
   "cell_type": "markdown",
   "id": "5e27b0e2",
   "metadata": {
    "papermill": {
     "duration": 0.049147,
     "end_time": "2022-02-24T11:49:08.687143",
     "exception": false,
     "start_time": "2022-02-24T11:49:08.637996",
     "status": "completed"
    },
    "tags": []
   },
   "source": [
    "***Make model instance***"
   ]
  },
  {
   "cell_type": "code",
   "execution_count": 12,
   "id": "7e5e4e1d",
   "metadata": {
    "execution": {
     "iopub.execute_input": "2022-02-24T11:49:08.798237Z",
     "iopub.status.busy": "2022-02-24T11:49:08.797476Z",
     "iopub.status.idle": "2022-02-24T11:49:11.212120Z",
     "shell.execute_reply": "2022-02-24T11:49:11.212565Z",
     "shell.execute_reply.started": "2022-02-24T11:35:11.822779Z"
    },
    "papermill": {
     "duration": 2.472023,
     "end_time": "2022-02-24T11:49:11.212749",
     "exception": false,
     "start_time": "2022-02-24T11:49:08.740726",
     "status": "completed"
    },
    "tags": []
   },
   "outputs": [
    {
     "name": "stderr",
     "output_type": "stream",
     "text": [
      "2022-02-24 11:49:08.906186: I tensorflow/stream_executor/cuda/cuda_gpu_executor.cc:937] successful NUMA node read from SysFS had negative value (-1), but there must be at least one NUMA node, so returning NUMA node zero\n",
      "2022-02-24 11:49:09.004306: I tensorflow/stream_executor/cuda/cuda_gpu_executor.cc:937] successful NUMA node read from SysFS had negative value (-1), but there must be at least one NUMA node, so returning NUMA node zero\n",
      "2022-02-24 11:49:09.005401: I tensorflow/stream_executor/cuda/cuda_gpu_executor.cc:937] successful NUMA node read from SysFS had negative value (-1), but there must be at least one NUMA node, so returning NUMA node zero\n"
     ]
    },
    {
     "name": "stdout",
     "output_type": "stream",
     "text": [
      "<bound method Model.summary of <keras.engine.functional.Functional object at 0x7fa19083c250>>\n"
     ]
    },
    {
     "name": "stderr",
     "output_type": "stream",
     "text": [
      "2022-02-24 11:49:09.007214: I tensorflow/core/platform/cpu_feature_guard.cc:142] This TensorFlow binary is optimized with oneAPI Deep Neural Network Library (oneDNN) to use the following CPU instructions in performance-critical operations:  AVX2 AVX512F FMA\n",
      "To enable them in other operations, rebuild TensorFlow with the appropriate compiler flags.\n",
      "2022-02-24 11:49:09.009810: I tensorflow/stream_executor/cuda/cuda_gpu_executor.cc:937] successful NUMA node read from SysFS had negative value (-1), but there must be at least one NUMA node, so returning NUMA node zero\n",
      "2022-02-24 11:49:09.010878: I tensorflow/stream_executor/cuda/cuda_gpu_executor.cc:937] successful NUMA node read from SysFS had negative value (-1), but there must be at least one NUMA node, so returning NUMA node zero\n",
      "2022-02-24 11:49:09.011971: I tensorflow/stream_executor/cuda/cuda_gpu_executor.cc:937] successful NUMA node read from SysFS had negative value (-1), but there must be at least one NUMA node, so returning NUMA node zero\n",
      "2022-02-24 11:49:10.825911: I tensorflow/stream_executor/cuda/cuda_gpu_executor.cc:937] successful NUMA node read from SysFS had negative value (-1), but there must be at least one NUMA node, so returning NUMA node zero\n",
      "2022-02-24 11:49:10.826769: I tensorflow/stream_executor/cuda/cuda_gpu_executor.cc:937] successful NUMA node read from SysFS had negative value (-1), but there must be at least one NUMA node, so returning NUMA node zero\n",
      "2022-02-24 11:49:10.827436: I tensorflow/stream_executor/cuda/cuda_gpu_executor.cc:937] successful NUMA node read from SysFS had negative value (-1), but there must be at least one NUMA node, so returning NUMA node zero\n",
      "2022-02-24 11:49:10.828028: I tensorflow/core/common_runtime/gpu/gpu_device.cc:1510] Created device /job:localhost/replica:0/task:0/device:GPU:0 with 15403 MB memory:  -> device: 0, name: Tesla P100-PCIE-16GB, pci bus id: 0000:00:04.0, compute capability: 6.0\n"
     ]
    }
   ],
   "source": [
    "model = conv_model(X_train.shape[1:])\n",
    "print(model.summary)"
   ]
  },
  {
   "cell_type": "markdown",
   "id": "1f7bd785",
   "metadata": {
    "papermill": {
     "duration": 0.029716,
     "end_time": "2022-02-24T11:49:11.272456",
     "exception": false,
     "start_time": "2022-02-24T11:49:11.242740",
     "status": "completed"
    },
    "tags": []
   },
   "source": [
    "***Compile model***"
   ]
  },
  {
   "cell_type": "code",
   "execution_count": 13,
   "id": "08d127c7",
   "metadata": {
    "execution": {
     "iopub.execute_input": "2022-02-24T11:49:11.340129Z",
     "iopub.status.busy": "2022-02-24T11:49:11.339305Z",
     "iopub.status.idle": "2022-02-24T11:49:11.352121Z",
     "shell.execute_reply": "2022-02-24T11:49:11.352552Z",
     "shell.execute_reply.started": "2022-02-24T11:35:16.206350Z"
    },
    "papermill": {
     "duration": 0.050779,
     "end_time": "2022-02-24T11:49:11.352711",
     "exception": false,
     "start_time": "2022-02-24T11:49:11.301932",
     "status": "completed"
    },
    "tags": []
   },
   "outputs": [
    {
     "name": "stdout",
     "output_type": "stream",
     "text": [
      "Model: \"model\"\n",
      "_________________________________________________________________\n",
      "Layer (type)                 Output Shape              Param #   \n",
      "=================================================================\n",
      "input_1 (InputLayer)         [(None, 28, 28, 1)]       0         \n",
      "_________________________________________________________________\n",
      "conv2d (Conv2D)              (None, 28, 28, 32)        832       \n",
      "_________________________________________________________________\n",
      "conv2d_1 (Conv2D)            (None, 28, 28, 32)        25632     \n",
      "_________________________________________________________________\n",
      "max_pooling2d (MaxPooling2D) (None, 14, 14, 32)        0         \n",
      "_________________________________________________________________\n",
      "dropout (Dropout)            (None, 14, 14, 32)        0         \n",
      "_________________________________________________________________\n",
      "conv2d_2 (Conv2D)            (None, 14, 14, 64)        18496     \n",
      "_________________________________________________________________\n",
      "conv2d_3 (Conv2D)            (None, 14, 14, 64)        36928     \n",
      "_________________________________________________________________\n",
      "max_pooling2d_1 (MaxPooling2 (None, 7, 7, 64)          0         \n",
      "_________________________________________________________________\n",
      "dropout_1 (Dropout)          (None, 7, 7, 64)          0         \n",
      "_________________________________________________________________\n",
      "flatten (Flatten)            (None, 3136)              0         \n",
      "_________________________________________________________________\n",
      "dense (Dense)                (None, 256)               803072    \n",
      "_________________________________________________________________\n",
      "dropout_2 (Dropout)          (None, 256)               0         \n",
      "_________________________________________________________________\n",
      "dense_1 (Dense)              (None, 10)                2570      \n",
      "=================================================================\n",
      "Total params: 887,530\n",
      "Trainable params: 887,530\n",
      "Non-trainable params: 0\n",
      "_________________________________________________________________\n"
     ]
    }
   ],
   "source": [
    "model.compile(optimizer = 'adam', loss = 'categorical_crossentropy', metrics = ['accuracy'])\n",
    "model.summary()"
   ]
  },
  {
   "cell_type": "markdown",
   "id": "5d152a4e",
   "metadata": {
    "papermill": {
     "duration": 0.035792,
     "end_time": "2022-02-24T11:49:11.422469",
     "exception": false,
     "start_time": "2022-02-24T11:49:11.386677",
     "status": "completed"
    },
    "tags": []
   },
   "source": [
    "***Decaying learning rate***"
   ]
  },
  {
   "cell_type": "code",
   "execution_count": 14,
   "id": "32050b71",
   "metadata": {
    "execution": {
     "iopub.execute_input": "2022-02-24T11:49:11.500463Z",
     "iopub.status.busy": "2022-02-24T11:49:11.498419Z",
     "iopub.status.idle": "2022-02-24T11:49:11.501160Z",
     "shell.execute_reply": "2022-02-24T11:49:11.501641Z",
     "shell.execute_reply.started": "2022-02-24T11:35:19.039276Z"
    },
    "papermill": {
     "duration": 0.043218,
     "end_time": "2022-02-24T11:49:11.501775",
     "exception": false,
     "start_time": "2022-02-24T11:49:11.458557",
     "status": "completed"
    },
    "tags": []
   },
   "outputs": [],
   "source": [
    "learning_rate_reduction = ReduceLROnPlateau(monitor = 'val_loss',\n",
    "                                           patience = 3,\n",
    "                                           verbose = 1,\n",
    "                                           factor = 0.5,\n",
    "                                           min_lr = 0.00001)"
   ]
  },
  {
   "cell_type": "markdown",
   "id": "d14ea16b",
   "metadata": {
    "papermill": {
     "duration": 0.030412,
     "end_time": "2022-02-24T11:49:11.564747",
     "exception": false,
     "start_time": "2022-02-24T11:49:11.534335",
     "status": "completed"
    },
    "tags": []
   },
   "source": [
    "***Set epochs and batch size***"
   ]
  },
  {
   "cell_type": "code",
   "execution_count": 15,
   "id": "f8d688ca",
   "metadata": {
    "execution": {
     "iopub.execute_input": "2022-02-24T11:49:11.630164Z",
     "iopub.status.busy": "2022-02-24T11:49:11.628527Z",
     "iopub.status.idle": "2022-02-24T11:49:11.630855Z",
     "shell.execute_reply": "2022-02-24T11:49:11.631525Z",
     "shell.execute_reply.started": "2022-02-24T11:35:22.877717Z"
    },
    "papermill": {
     "duration": 0.036424,
     "end_time": "2022-02-24T11:49:11.631695",
     "exception": false,
     "start_time": "2022-02-24T11:49:11.595271",
     "status": "completed"
    },
    "tags": []
   },
   "outputs": [],
   "source": [
    "epochs = 30\n",
    "batch_size = 86"
   ]
  },
  {
   "cell_type": "markdown",
   "id": "bfa271e7",
   "metadata": {
    "papermill": {
     "duration": 0.029729,
     "end_time": "2022-02-24T11:49:11.692433",
     "exception": false,
     "start_time": "2022-02-24T11:49:11.662704",
     "status": "completed"
    },
    "tags": []
   },
   "source": [
    "***Data augmentation***"
   ]
  },
  {
   "cell_type": "code",
   "execution_count": 16,
   "id": "428709eb",
   "metadata": {
    "execution": {
     "iopub.execute_input": "2022-02-24T11:49:11.757953Z",
     "iopub.status.busy": "2022-02-24T11:49:11.756983Z",
     "iopub.status.idle": "2022-02-24T11:49:11.851483Z",
     "shell.execute_reply": "2022-02-24T11:49:11.851966Z",
     "shell.execute_reply.started": "2022-02-24T11:35:24.460877Z"
    },
    "papermill": {
     "duration": 0.129091,
     "end_time": "2022-02-24T11:49:11.852132",
     "exception": false,
     "start_time": "2022-02-24T11:49:11.723041",
     "status": "completed"
    },
    "tags": []
   },
   "outputs": [
    {
     "data": {
      "text/plain": [
       "<keras.preprocessing.image.ImageDataGenerator at 0x7fa190811550>"
      ]
     },
     "execution_count": 16,
     "metadata": {},
     "output_type": "execute_result"
    }
   ],
   "source": [
    "datagen = ImageDataGenerator(rotation_range = 10,\n",
    "                            zoom_range = 0.1,\n",
    "                            width_shift_range = 0.1,\n",
    "                            height_shift_range = 0.1)\n",
    "datagen.fit(X_train)\n",
    "datagen"
   ]
  },
  {
   "cell_type": "markdown",
   "id": "6c9c9816",
   "metadata": {
    "papermill": {
     "duration": 0.030183,
     "end_time": "2022-02-24T11:49:11.912946",
     "exception": false,
     "start_time": "2022-02-24T11:49:11.882763",
     "status": "completed"
    },
    "tags": []
   },
   "source": [
    "***Fit our model***"
   ]
  },
  {
   "cell_type": "code",
   "execution_count": 17,
   "id": "ffdb921d",
   "metadata": {
    "execution": {
     "iopub.execute_input": "2022-02-24T11:49:11.979473Z",
     "iopub.status.busy": "2022-02-24T11:49:11.978394Z",
     "iopub.status.idle": "2022-02-24T11:55:52.480565Z",
     "shell.execute_reply": "2022-02-24T11:55:52.481186Z",
     "shell.execute_reply.started": "2022-02-24T11:35:28.295575Z"
    },
    "papermill": {
     "duration": 400.538144,
     "end_time": "2022-02-24T11:55:52.481390",
     "exception": false,
     "start_time": "2022-02-24T11:49:11.943246",
     "status": "completed"
    },
    "tags": []
   },
   "outputs": [
    {
     "name": "stderr",
     "output_type": "stream",
     "text": [
      "2022-02-24 11:49:12.111654: I tensorflow/compiler/mlir/mlir_graph_optimization_pass.cc:185] None of the MLIR Optimization Passes are enabled (registered 2)\n"
     ]
    },
    {
     "name": "stdout",
     "output_type": "stream",
     "text": [
      "Epoch 1/30\n"
     ]
    },
    {
     "name": "stderr",
     "output_type": "stream",
     "text": [
      "2022-02-24 11:49:13.397817: I tensorflow/stream_executor/cuda/cuda_dnn.cc:369] Loaded cuDNN version 8005\n"
     ]
    },
    {
     "name": "stdout",
     "output_type": "stream",
     "text": [
      "439/439 [==============================] - 17s 24ms/step - loss: 0.4176 - accuracy: 0.8633 - val_loss: 0.0800 - val_accuracy: 0.9771\n",
      "Epoch 2/30\n",
      "439/439 [==============================] - 10s 23ms/step - loss: 0.1382 - accuracy: 0.9588 - val_loss: 0.0476 - val_accuracy: 0.9857\n",
      "Epoch 3/30\n",
      "439/439 [==============================] - 11s 25ms/step - loss: 0.1043 - accuracy: 0.9694 - val_loss: 0.0385 - val_accuracy: 0.9874\n",
      "Epoch 4/30\n",
      "439/439 [==============================] - 10s 23ms/step - loss: 0.0845 - accuracy: 0.9758 - val_loss: 0.0441 - val_accuracy: 0.9890\n",
      "Epoch 5/30\n",
      "439/439 [==============================] - 11s 25ms/step - loss: 0.0783 - accuracy: 0.9757 - val_loss: 0.0261 - val_accuracy: 0.9910\n",
      "Epoch 6/30\n",
      "439/439 [==============================] - 10s 23ms/step - loss: 0.0669 - accuracy: 0.9795 - val_loss: 0.0296 - val_accuracy: 0.9905\n",
      "Epoch 7/30\n",
      "439/439 [==============================] - 10s 23ms/step - loss: 0.0614 - accuracy: 0.9821 - val_loss: 0.0212 - val_accuracy: 0.9921\n",
      "Epoch 8/30\n",
      "439/439 [==============================] - 11s 25ms/step - loss: 0.0561 - accuracy: 0.9832 - val_loss: 0.0213 - val_accuracy: 0.9933\n",
      "Epoch 9/30\n",
      "439/439 [==============================] - 10s 23ms/step - loss: 0.0574 - accuracy: 0.9828 - val_loss: 0.0162 - val_accuracy: 0.9952\n",
      "Epoch 10/30\n",
      "439/439 [==============================] - 10s 23ms/step - loss: 0.0508 - accuracy: 0.9849 - val_loss: 0.0210 - val_accuracy: 0.9933\n",
      "Epoch 11/30\n",
      "439/439 [==============================] - 11s 25ms/step - loss: 0.0459 - accuracy: 0.9864 - val_loss: 0.0194 - val_accuracy: 0.9940\n",
      "Epoch 12/30\n",
      "439/439 [==============================] - 10s 23ms/step - loss: 0.0504 - accuracy: 0.9848 - val_loss: 0.0242 - val_accuracy: 0.9917\n",
      "\n",
      "Epoch 00012: ReduceLROnPlateau reducing learning rate to 0.0005000000237487257.\n",
      "Epoch 13/30\n",
      "439/439 [==============================] - 10s 23ms/step - loss: 0.0371 - accuracy: 0.9892 - val_loss: 0.0147 - val_accuracy: 0.9948\n",
      "Epoch 14/30\n",
      "439/439 [==============================] - 11s 25ms/step - loss: 0.0325 - accuracy: 0.9900 - val_loss: 0.0166 - val_accuracy: 0.9950\n",
      "Epoch 15/30\n",
      "439/439 [==============================] - 10s 23ms/step - loss: 0.0317 - accuracy: 0.9903 - val_loss: 0.0208 - val_accuracy: 0.9943\n",
      "Epoch 16/30\n",
      "439/439 [==============================] - 11s 25ms/step - loss: 0.0314 - accuracy: 0.9905 - val_loss: 0.0154 - val_accuracy: 0.9957\n",
      "\n",
      "Epoch 00016: ReduceLROnPlateau reducing learning rate to 0.0002500000118743628.\n",
      "Epoch 17/30\n",
      "439/439 [==============================] - 10s 23ms/step - loss: 0.0259 - accuracy: 0.9919 - val_loss: 0.0129 - val_accuracy: 0.9962\n",
      "Epoch 18/30\n",
      "439/439 [==============================] - 10s 23ms/step - loss: 0.0244 - accuracy: 0.9933 - val_loss: 0.0149 - val_accuracy: 0.9955\n",
      "Epoch 19/30\n",
      "439/439 [==============================] - 11s 26ms/step - loss: 0.0256 - accuracy: 0.9919 - val_loss: 0.0126 - val_accuracy: 0.9964\n",
      "Epoch 20/30\n",
      "439/439 [==============================] - 11s 24ms/step - loss: 0.0240 - accuracy: 0.9927 - val_loss: 0.0127 - val_accuracy: 0.9955\n",
      "Epoch 21/30\n",
      "439/439 [==============================] - 11s 25ms/step - loss: 0.0227 - accuracy: 0.9930 - val_loss: 0.0139 - val_accuracy: 0.9964\n",
      "Epoch 22/30\n",
      "439/439 [==============================] - 10s 23ms/step - loss: 0.0235 - accuracy: 0.9930 - val_loss: 0.0143 - val_accuracy: 0.9960\n",
      "\n",
      "Epoch 00022: ReduceLROnPlateau reducing learning rate to 0.0001250000059371814.\n",
      "Epoch 23/30\n",
      "439/439 [==============================] - 10s 23ms/step - loss: 0.0192 - accuracy: 0.9938 - val_loss: 0.0124 - val_accuracy: 0.9964\n",
      "Epoch 24/30\n",
      "439/439 [==============================] - 12s 27ms/step - loss: 0.0191 - accuracy: 0.9943 - val_loss: 0.0147 - val_accuracy: 0.9960\n",
      "Epoch 25/30\n",
      "439/439 [==============================] - 10s 23ms/step - loss: 0.0179 - accuracy: 0.9947 - val_loss: 0.0134 - val_accuracy: 0.9957\n",
      "Epoch 26/30\n",
      "439/439 [==============================] - 12s 26ms/step - loss: 0.0193 - accuracy: 0.9946 - val_loss: 0.0132 - val_accuracy: 0.9962\n",
      "\n",
      "Epoch 00026: ReduceLROnPlateau reducing learning rate to 6.25000029685907e-05.\n",
      "Epoch 27/30\n",
      "439/439 [==============================] - 10s 23ms/step - loss: 0.0159 - accuracy: 0.9949 - val_loss: 0.0136 - val_accuracy: 0.9964\n",
      "Epoch 28/30\n",
      "439/439 [==============================] - 12s 27ms/step - loss: 0.0186 - accuracy: 0.9945 - val_loss: 0.0119 - val_accuracy: 0.9967\n",
      "Epoch 29/30\n",
      "439/439 [==============================] - 10s 23ms/step - loss: 0.0169 - accuracy: 0.9949 - val_loss: 0.0134 - val_accuracy: 0.9964\n",
      "Epoch 30/30\n",
      "439/439 [==============================] - 12s 28ms/step - loss: 0.0175 - accuracy: 0.9949 - val_loss: 0.0135 - val_accuracy: 0.9962\n"
     ]
    }
   ],
   "source": [
    "history = model.fit(datagen.flow(X_train,Y_train, batch_size = batch_size),\n",
    "                   epochs = epochs,\n",
    "                   validation_data = (X_val, Y_val),\n",
    "                   verbose = 1,\n",
    "                   steps_per_epoch = X_train.shape[0]//batch_size,\n",
    "                   callbacks = [learning_rate_reduction])"
   ]
  },
  {
   "cell_type": "markdown",
   "id": "d0ab4bd7",
   "metadata": {
    "papermill": {
     "duration": 1.496509,
     "end_time": "2022-02-24T11:55:55.472611",
     "exception": false,
     "start_time": "2022-02-24T11:55:53.976102",
     "status": "completed"
    },
    "tags": []
   },
   "source": [
    "***Evaluate the model***"
   ]
  },
  {
   "cell_type": "code",
   "execution_count": 18,
   "id": "fad916c7",
   "metadata": {
    "execution": {
     "iopub.execute_input": "2022-02-24T11:55:58.789091Z",
     "iopub.status.busy": "2022-02-24T11:55:58.788348Z",
     "iopub.status.idle": "2022-02-24T11:55:59.330428Z",
     "shell.execute_reply": "2022-02-24T11:55:59.330849Z",
     "shell.execute_reply.started": "2022-02-24T11:43:15.579472Z"
    },
    "papermill": {
     "duration": 2.03811,
     "end_time": "2022-02-24T11:55:59.330997",
     "exception": false,
     "start_time": "2022-02-24T11:55:57.292887",
     "status": "completed"
    },
    "tags": []
   },
   "outputs": [
    {
     "name": "stderr",
     "output_type": "stream",
     "text": [
      "/opt/conda/lib/python3.7/site-packages/pandas/core/frame.py:5047: SettingWithCopyWarning: \n",
      "A value is trying to be set on a copy of a slice from a DataFrame\n",
      "\n",
      "See the caveats in the documentation: https://pandas.pydata.org/pandas-docs/stable/user_guide/indexing.html#returning-a-view-versus-a-copy\n",
      "  errors=errors,\n"
     ]
    },
    {
     "data": {
      "text/plain": [
       "[Text(0.5, 0, 'Epoch'), Text(0, 0.5, 'Accuracy')]"
      ]
     },
     "execution_count": 18,
     "metadata": {},
     "output_type": "execute_result"
    },
    {
     "data": {
      "image/png": "[encoded data removed]",
      "text/plain": [
       "<Figure size 864x576 with 1 Axes>"
      ]
     },
     "metadata": {},
     "output_type": "display_data"
    },
    {
     "data": {
      "image/png": "[encoded data removed]",
      "text/plain": [
       "<Figure size 864x576 with 1 Axes>"
      ]
     },
     "metadata": {},
     "output_type": "display_data"
    }
   ],
   "source": [
    "df_loss_acc = pd.DataFrame(history.history)\n",
    "df_loss = df_loss_acc[['loss', 'val_loss']]\n",
    "df_loss.rename(columns = {'loss' : 'train', 'val_loss' : 'validataion'}, inplace = True)\n",
    "\n",
    "df_acc = df_loss_acc[['accuracy', 'val_accuracy']]\n",
    "df_acc.rename(columns = {'accuracy' : 'train', 'val_accuracy': 'validataion'}, inplace = True)\n",
    "\n",
    "df_loss.plot(title = 'Model Loss', figsize = (12, 8)).set(xlabel = 'Epoch', ylabel = 'Loss')\n",
    "df_acc.plot(title = 'Model Accuracy', figsize = (12, 8)).set(xlabel = 'Epoch', ylabel = 'Accuracy')"
   ]
  },
  {
   "cell_type": "markdown",
   "id": "810c1c2e",
   "metadata": {
    "papermill": {
     "duration": 1.484171,
     "end_time": "2022-02-24T11:56:02.330609",
     "exception": false,
     "start_time": "2022-02-24T11:56:00.846438",
     "status": "completed"
    },
    "tags": []
   },
   "source": [
    "***Make Confusion matix***"
   ]
  },
  {
   "cell_type": "code",
   "execution_count": 19,
   "id": "ce90aa52",
   "metadata": {
    "execution": {
     "iopub.execute_input": "2022-02-24T11:56:05.320517Z",
     "iopub.status.busy": "2022-02-24T11:56:05.319220Z",
     "iopub.status.idle": "2022-02-24T11:56:06.393771Z",
     "shell.execute_reply": "2022-02-24T11:56:06.393320Z",
     "shell.execute_reply.started": "2022-02-24T11:43:20.578125Z"
    },
    "papermill": {
     "duration": 2.570509,
     "end_time": "2022-02-24T11:56:06.393906",
     "exception": false,
     "start_time": "2022-02-24T11:56:03.823397",
     "status": "completed"
    },
    "tags": []
   },
   "outputs": [
    {
     "data": {
      "text/plain": [
       "<AxesSubplot:>"
      ]
     },
     "execution_count": 19,
     "metadata": {},
     "output_type": "execute_result"
    },
    {
     "data": {
      "image/png": "[encoded data removed]",
      "text/plain": [
       "<Figure size 432x288 with 2 Axes>"
      ]
     },
     "metadata": {},
     "output_type": "display_data"
    }
   ],
   "source": [
    "Y_pred = model.predict(X_val)\n",
    "Y_pred_classes = np.argmax(Y_pred, axis = 1)\n",
    "Y_true = np.argmax(Y_val, axis = 1)\n",
    "confusion_mtx = confusion_matrix(Y_true, Y_pred_classes)\n",
    "sns.heatmap(confusion_mtx, annot = True, fmt = 'd')"
   ]
  },
  {
   "cell_type": "markdown",
   "id": "7fc51849",
   "metadata": {
    "papermill": {
     "duration": 1.496572,
     "end_time": "2022-02-24T11:56:09.673540",
     "exception": false,
     "start_time": "2022-02-24T11:56:08.176968",
     "status": "completed"
    },
    "tags": []
   },
   "source": [
    "***Predict results and submit***"
   ]
  },
  {
   "cell_type": "code",
   "execution_count": 20,
   "id": "4031e188",
   "metadata": {
    "execution": {
     "iopub.execute_input": "2022-02-24T11:56:13.142048Z",
     "iopub.status.busy": "2022-02-24T11:56:13.141124Z",
     "iopub.status.idle": "2022-02-24T11:56:16.015445Z",
     "shell.execute_reply": "2022-02-24T11:56:16.014924Z",
     "shell.execute_reply.started": "2022-02-24T11:48:18.185491Z"
    },
    "papermill": {
     "duration": 4.853077,
     "end_time": "2022-02-24T11:56:16.015578",
     "exception": false,
     "start_time": "2022-02-24T11:56:11.162501",
     "status": "completed"
    },
    "tags": []
   },
   "outputs": [],
   "source": [
    "results = model.predict(test)\n",
    "results = np.argmax(results, axis = 1)\n",
    "results = pd.Series(results, name = 'Label')\n",
    "\n",
    "submission = pd.concat([pd.Series(range(1,28001), name = 'ImageId'), results], axis = 1)\n",
    "submission.to_csv('../working/submission.csv', index = False)"
   ]
  },
  {
   "cell_type": "code",
   "execution_count": null,
   "id": "7ae96bd6",
   "metadata": {
    "papermill": {
     "duration": 1.792304,
     "end_time": "2022-02-24T11:56:19.312450",
     "exception": false,
     "start_time": "2022-02-24T11:56:17.520146",
     "status": "completed"
    },
    "tags": []
   },
   "outputs": [],
   "source": []
  }
 ],
 "metadata": {
  "kernelspec": {
   "display_name": "Python 3",
   "language": "python",
   "name": "python3"
  },
  "language_info": {
   "codemirror_mode": {
    "name": "ipython",
    "version": 3
   },
   "file_extension": ".py",
   "mimetype": "text/x-python",
   "name": "python",
   "nbconvert_exporter": "python",
   "pygments_lexer": "ipython3",
   "version": "3.7.12"
  },
  "papermill": {
   "default_parameters": {},
   "duration": 457.214831,
   "end_time": "2022-02-24T11:56:24.063596",
   "environment_variables": {},
   "exception": null,
   "input_path": "__notebook__.ipynb",
   "output_path": "__notebook__.ipynb",
   "parameters": {},
   "start_time": "2022-02-24T11:48:46.848765",
   "version": "2.3.3"
  }
 },
 "nbformat": 4,
 "nbformat_minor": 5
}
