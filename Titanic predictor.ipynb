{
 "cells": [
  {
   "cell_type": "code",
   "execution_count": 1,
   "metadata": {
    "_cell_guid": "b1076dfc-b9ad-4769-8c92-a6c4dae69d19",
    "_uuid": "8f2839f25d086af736a60e9eeb907d3b93b6e0e5",
    "execution": {
     "iopub.execute_input": "2022-02-16T08:29:18.433724Z",
     "iopub.status.busy": "2022-02-16T08:29:18.433352Z",
     "iopub.status.idle": "2022-02-16T08:29:18.447236Z",
     "shell.execute_reply": "2022-02-16T08:29:18.446569Z",
     "shell.execute_reply.started": "2022-02-16T08:29:18.433653Z"
    }
   },
   "outputs": [],
   "source": [
    "# This Python 3 environment comes with many helpful analytics libraries installed\n",
    "# It is defined by the kaggle/python Docker image: https://github.com/kaggle/docker-python\n",
    "# For example, here's several helpful packages to load\n",
    "\n",
    "import numpy as np # linear algebra\n",
    "import pandas as pd # data processing, CSV file I/O (e.g. pd.read_csv)\n",
    "\n",
    "# Input data files are available in the read-only \"../input/\" directory\n",
    "# For example, running this (by clicking run or pressing Shift+Enter) will list all files under the input directory\n",
    "\n",
    "import os\n",
    "for dirname, _, filenames in os.walk('/kaggle/input'):\n",
    "    for filename in filenames:\n",
    "        print(os.path.join(dirname, filename))\n",
    "\n",
    "# You can write up to 20GB to the current directory (/kaggle/working/) that gets preserved as output when you create a version using \"Save & Run All\" \n",
    "# You can also write temporary files to /kaggle/temp/, but they won't be saved outside of the current session"
   ]
  },
  {
   "cell_type": "code",
   "execution_count": 2,
   "metadata": {
    "execution": {
     "iopub.execute_input": "2022-02-16T08:29:18.448996Z",
     "iopub.status.busy": "2022-02-16T08:29:18.448634Z",
     "iopub.status.idle": "2022-02-16T08:29:19.166888Z",
     "shell.execute_reply": "2022-02-16T08:29:19.165758Z",
     "shell.execute_reply.started": "2022-02-16T08:29:18.448965Z"
    }
   },
   "outputs": [],
   "source": [
    "import random as rnd\n",
    "\n",
    "import seaborn as sns\n",
    "import matplotlib.pyplot as plt\n",
    "%matplotlib inline\n",
    "\n",
    "from sklearn.linear_model import LogisticRegression\n",
    "from sklearn.svm import SVC, LinearSVC\n",
    "from sklearn.ensemble import RandomForestClassifier\n",
    "from sklearn.neighbors import KNeighborsClassifier\n",
    "from sklearn.naive_bayes import GaussianNB\n",
    "from sklearn.linear_model import Perceptron\n",
    "from sklearn.linear_model import SGDClassifier\n",
    "from sklearn.tree import DecisionTreeClassifier"
   ]
  },
  {
   "cell_type": "code",
   "execution_count": 3,
   "metadata": {
    "execution": {
     "iopub.execute_input": "2022-02-16T08:29:19.168762Z",
     "iopub.status.busy": "2022-02-16T08:29:19.168495Z",
     "iopub.status.idle": "2022-02-16T08:29:19.188531Z",
     "shell.execute_reply": "2022-02-16T08:29:19.187685Z",
     "shell.execute_reply.started": "2022-02-16T08:29:19.168730Z"
    }
   },
   "outputs": [],
   "source": [
    "train_df = pd.read_csv('../input/titanic/train.csv')\n",
    "test_df = pd.read_csv('../input/titanic/test.csv')\n",
    "combine = [train_df, test_df]"
   ]
  },
  {
   "cell_type": "code",
   "execution_count": 4,
   "metadata": {
    "execution": {
     "iopub.execute_input": "2022-02-16T08:29:19.192192Z",
     "iopub.status.busy": "2022-02-16T08:29:19.191616Z",
     "iopub.status.idle": "2022-02-16T08:29:19.199975Z",
     "shell.execute_reply": "2022-02-16T08:29:19.198666Z",
     "shell.execute_reply.started": "2022-02-16T08:29:19.192140Z"
    }
   },
   "outputs": [],
   "source": [
    "print(train_df.columns.values)"
   ]
  },
  {
   "cell_type": "code",
   "execution_count": 5,
   "metadata": {
    "execution": {
     "iopub.execute_input": "2022-02-16T08:29:19.202199Z",
     "iopub.status.busy": "2022-02-16T08:29:19.201503Z",
     "iopub.status.idle": "2022-02-16T08:29:19.233445Z",
     "shell.execute_reply": "2022-02-16T08:29:19.232383Z",
     "shell.execute_reply.started": "2022-02-16T08:29:19.202151Z"
    }
   },
   "outputs": [],
   "source": [
    "train_df.head()"
   ]
  },
  {
   "cell_type": "code",
   "execution_count": 6,
   "metadata": {
    "execution": {
     "iopub.execute_input": "2022-02-16T08:29:19.235544Z",
     "iopub.status.busy": "2022-02-16T08:29:19.234879Z",
     "iopub.status.idle": "2022-02-16T08:29:19.257371Z",
     "shell.execute_reply": "2022-02-16T08:29:19.255905Z",
     "shell.execute_reply.started": "2022-02-16T08:29:19.235497Z"
    }
   },
   "outputs": [],
   "source": [
    "train_df.tail()"
   ]
  },
  {
   "cell_type": "code",
   "execution_count": 7,
   "metadata": {
    "execution": {
     "iopub.execute_input": "2022-02-16T08:29:19.260330Z",
     "iopub.status.busy": "2022-02-16T08:29:19.259095Z",
     "iopub.status.idle": "2022-02-16T08:29:19.292012Z",
     "shell.execute_reply": "2022-02-16T08:29:19.290807Z",
     "shell.execute_reply.started": "2022-02-16T08:29:19.260253Z"
    }
   },
   "outputs": [],
   "source": [
    "train_df.info()\n",
    "test_df.info()"
   ]
  },
  {
   "cell_type": "code",
   "execution_count": 8,
   "metadata": {
    "execution": {
     "iopub.execute_input": "2022-02-16T08:29:19.293728Z",
     "iopub.status.busy": "2022-02-16T08:29:19.293439Z",
     "iopub.status.idle": "2022-02-16T08:29:19.330912Z",
     "shell.execute_reply": "2022-02-16T08:29:19.329870Z",
     "shell.execute_reply.started": "2022-02-16T08:29:19.293693Z"
    }
   },
   "outputs": [],
   "source": [
    "train_df.describe()"
   ]
  },
  {
   "cell_type": "code",
   "execution_count": 9,
   "metadata": {
    "execution": {
     "iopub.execute_input": "2022-02-16T08:29:19.332488Z",
     "iopub.status.busy": "2022-02-16T08:29:19.332206Z",
     "iopub.status.idle": "2022-02-16T08:29:19.361623Z",
     "shell.execute_reply": "2022-02-16T08:29:19.360601Z",
     "shell.execute_reply.started": "2022-02-16T08:29:19.332454Z"
    }
   },
   "outputs": [],
   "source": [
    "train_df.describe(include=['O'])"
   ]
  },
  {
   "cell_type": "code",
   "execution_count": 10,
   "metadata": {
    "execution": {
     "iopub.execute_input": "2022-02-16T08:29:19.363974Z",
     "iopub.status.busy": "2022-02-16T08:29:19.363118Z",
     "iopub.status.idle": "2022-02-16T08:29:19.380423Z",
     "shell.execute_reply": "2022-02-16T08:29:19.379387Z",
     "shell.execute_reply.started": "2022-02-16T08:29:19.363927Z"
    }
   },
   "outputs": [],
   "source": [
    "train_df[['Pclass', 'Survived']].groupby(by = 'Pclass', as_index = False).mean().sort_values(by = 'Survived', ascending = False)"
   ]
  },
  {
   "cell_type": "code",
   "execution_count": 11,
   "metadata": {
    "execution": {
     "iopub.execute_input": "2022-02-16T08:29:19.383069Z",
     "iopub.status.busy": "2022-02-16T08:29:19.382789Z",
     "iopub.status.idle": "2022-02-16T08:29:19.404108Z",
     "shell.execute_reply": "2022-02-16T08:29:19.403380Z",
     "shell.execute_reply.started": "2022-02-16T08:29:19.383029Z"
    }
   },
   "outputs": [],
   "source": [
    "train_df[['Sex', 'Survived']].groupby(by = 'Sex', as_index = False).mean().sort_values(by = 'Survived', ascending = False)"
   ]
  },
  {
   "cell_type": "code",
   "execution_count": 12,
   "metadata": {
    "execution": {
     "iopub.execute_input": "2022-02-16T08:29:19.406549Z",
     "iopub.status.busy": "2022-02-16T08:29:19.405786Z",
     "iopub.status.idle": "2022-02-16T08:29:19.430075Z",
     "shell.execute_reply": "2022-02-16T08:29:19.429198Z",
     "shell.execute_reply.started": "2022-02-16T08:29:19.406511Z"
    }
   },
   "outputs": [],
   "source": [
    "train_df[['SibSp', 'Survived']].groupby(by = 'SibSp').mean().sort_values(by = 'Survived', ascending = False)"
   ]
  },
  {
   "cell_type": "code",
   "execution_count": 13,
   "metadata": {
    "execution": {
     "iopub.execute_input": "2022-02-16T08:29:19.434439Z",
     "iopub.status.busy": "2022-02-16T08:29:19.433725Z",
     "iopub.status.idle": "2022-02-16T08:29:19.457835Z",
     "shell.execute_reply": "2022-02-16T08:29:19.456772Z",
     "shell.execute_reply.started": "2022-02-16T08:29:19.434398Z"
    }
   },
   "outputs": [],
   "source": [
    "train_df[['Parch', 'Survived']].groupby(by = 'Parch').mean().sort_values(by = 'Survived', ascending = False)"
   ]
  },
  {
   "cell_type": "code",
   "execution_count": 14,
   "metadata": {
    "execution": {
     "iopub.execute_input": "2022-02-16T08:29:19.459889Z",
     "iopub.status.busy": "2022-02-16T08:29:19.459622Z",
     "iopub.status.idle": "2022-02-16T08:29:20.005454Z",
     "shell.execute_reply": "2022-02-16T08:29:20.004257Z",
     "shell.execute_reply.started": "2022-02-16T08:29:19.459856Z"
    }
   },
   "outputs": [],
   "source": [
    "graph = sns.FacetGrid(train_df, col = \"Survived\")\n",
    "graph.map(sns.histplot, 'Age')"
   ]
  },
  {
   "cell_type": "code",
   "execution_count": 15,
   "metadata": {
    "execution": {
     "iopub.execute_input": "2022-02-16T08:29:20.007395Z",
     "iopub.status.busy": "2022-02-16T08:29:20.006889Z",
     "iopub.status.idle": "2022-02-16T08:29:21.509838Z",
     "shell.execute_reply": "2022-02-16T08:29:21.508632Z",
     "shell.execute_reply.started": "2022-02-16T08:29:20.007351Z"
    }
   },
   "outputs": [],
   "source": [
    "grid = sns.FacetGrid(train_df, col = \"Survived\", row = \"Pclass\")\n",
    "grid.map(sns.histplot, \"Age\")\n",
    "grid.legend"
   ]
  },
  {
   "cell_type": "code",
   "execution_count": 16,
   "metadata": {
    "execution": {
     "iopub.execute_input": "2022-02-16T08:29:21.511524Z",
     "iopub.status.busy": "2022-02-16T08:29:21.511241Z",
     "iopub.status.idle": "2022-02-16T08:29:22.960263Z",
     "shell.execute_reply": "2022-02-16T08:29:22.959062Z",
     "shell.execute_reply.started": "2022-02-16T08:29:21.511493Z"
    }
   },
   "outputs": [],
   "source": [
    "grid = sns.FacetGrid(train_df, row = 'Embarked', size = 4)\n",
    "grid.map(sns.pointplot, 'Pclass', 'Survived', 'Sex')\n",
    "grid.add_legend()"
   ]
  },
  {
   "cell_type": "code",
   "execution_count": 17,
   "metadata": {
    "execution": {
     "iopub.execute_input": "2022-02-16T08:29:22.962712Z",
     "iopub.status.busy": "2022-02-16T08:29:22.962374Z",
     "iopub.status.idle": "2022-02-16T08:29:24.531687Z",
     "shell.execute_reply": "2022-02-16T08:29:24.530551Z",
     "shell.execute_reply.started": "2022-02-16T08:29:22.962668Z"
    }
   },
   "outputs": [],
   "source": [
    "grid = sns.FacetGrid(train_df, row = 'Embarked', col = 'Survived', size = 4)\n",
    "grid.map(sns.barplot, 'Sex', 'Fare')\n",
    "grid.add_legend()"
   ]
  },
  {
   "cell_type": "code",
   "execution_count": 18,
   "metadata": {
    "execution": {
     "iopub.execute_input": "2022-02-16T08:29:24.534061Z",
     "iopub.status.busy": "2022-02-16T08:29:24.533431Z",
     "iopub.status.idle": "2022-02-16T08:29:24.542844Z",
     "shell.execute_reply": "2022-02-16T08:29:24.541644Z",
     "shell.execute_reply.started": "2022-02-16T08:29:24.534013Z"
    }
   },
   "outputs": [],
   "source": [
    "train_df = train_df.drop(['Ticket', 'Cabin'], axis = 1)\n",
    "test_df = test_df.drop(['Ticket', 'Cabin'], axis = 1)"
   ]
  },
  {
   "cell_type": "code",
   "execution_count": 19,
   "metadata": {
    "execution": {
     "iopub.execute_input": "2022-02-16T08:29:24.545007Z",
     "iopub.status.busy": "2022-02-16T08:29:24.544619Z",
     "iopub.status.idle": "2022-02-16T08:29:24.577739Z",
     "shell.execute_reply": "2022-02-16T08:29:24.576116Z",
     "shell.execute_reply.started": "2022-02-16T08:29:24.544965Z"
    }
   },
   "outputs": [],
   "source": [
    "combine = [train_df, test_df]\n",
    "combine"
   ]
  },
  {
   "cell_type": "code",
   "execution_count": 20,
   "metadata": {
    "execution": {
     "iopub.execute_input": "2022-02-16T08:29:24.581180Z",
     "iopub.status.busy": "2022-02-16T08:29:24.580697Z",
     "iopub.status.idle": "2022-02-16T08:29:24.617214Z",
     "shell.execute_reply": "2022-02-16T08:29:24.616181Z",
     "shell.execute_reply.started": "2022-02-16T08:29:24.581128Z"
    }
   },
   "outputs": [],
   "source": [
    "for dataset in combine:\n",
    "    dataset['Title'] = dataset.Name.str.extract(' ([A-Za-z]+)\\.', expand = False)\n",
    "pd.crosstab(index = train_df['Title'], columns = train_df['Sex'] )"
   ]
  },
  {
   "cell_type": "code",
   "execution_count": 21,
   "metadata": {
    "execution": {
     "iopub.execute_input": "2022-02-16T08:29:24.619749Z",
     "iopub.status.busy": "2022-02-16T08:29:24.618885Z",
     "iopub.status.idle": "2022-02-16T08:29:24.636702Z",
     "shell.execute_reply": "2022-02-16T08:29:24.635684Z",
     "shell.execute_reply.started": "2022-02-16T08:29:24.619708Z"
    }
   },
   "outputs": [],
   "source": [
    "#combine[0].head()\n",
    "train_df.head()"
   ]
  },
  {
   "cell_type": "code",
   "execution_count": 22,
   "metadata": {
    "execution": {
     "iopub.execute_input": "2022-02-16T08:29:24.639714Z",
     "iopub.status.busy": "2022-02-16T08:29:24.638527Z",
     "iopub.status.idle": "2022-02-16T08:29:24.664817Z",
     "shell.execute_reply": "2022-02-16T08:29:24.663740Z",
     "shell.execute_reply.started": "2022-02-16T08:29:24.639656Z"
    }
   },
   "outputs": [],
   "source": [
    "for dataset in combine:\n",
    "    dataset['Title'] = dataset['Title'].replace(['Lady', 'Countess', 'Capt', 'Col', 'Don', 'Dr','Major', 'Rev', 'Sir', 'Jonkheer', 'Dona'],'Rare')\n",
    "    dataset['Title'] = dataset['Title'].replace('Mlle', 'Miss')\n",
    "    dataset['Title'] = dataset['Title'].replace('Ms', 'Miss')\n",
    "    dataset['Title'] = dataset['Title'].replace('Mme', 'Mrs')\n",
    "\n",
    "train_df[['Title', 'Survived']].groupby(by='Title').mean()"
   ]
  },
  {
   "cell_type": "code",
   "execution_count": 23,
   "metadata": {
    "execution": {
     "iopub.execute_input": "2022-02-16T08:29:24.666853Z",
     "iopub.status.busy": "2022-02-16T08:29:24.666141Z",
     "iopub.status.idle": "2022-02-16T08:29:24.688238Z",
     "shell.execute_reply": "2022-02-16T08:29:24.687364Z",
     "shell.execute_reply.started": "2022-02-16T08:29:24.666815Z"
    }
   },
   "outputs": [],
   "source": [
    "title_mapping = {'Mr': 1, \"Miss\": 2, \"Mrs\": 3, \"Master\": 4, \"Rare\": 5}\n",
    "for dataset in combine:\n",
    "    dataset['Title'] = dataset['Title'].map(title_mapping)\n",
    "    dataset['Title'] = dataset['Title'].fillna(0)\n",
    "\n",
    "train_df.head()"
   ]
  },
  {
   "cell_type": "code",
   "execution_count": 24,
   "metadata": {
    "execution": {
     "iopub.execute_input": "2022-02-16T08:29:24.690898Z",
     "iopub.status.busy": "2022-02-16T08:29:24.689858Z",
     "iopub.status.idle": "2022-02-16T08:29:24.703296Z",
     "shell.execute_reply": "2022-02-16T08:29:24.702413Z",
     "shell.execute_reply.started": "2022-02-16T08:29:24.690806Z"
    }
   },
   "outputs": [],
   "source": [
    "train_df = train_df.drop(['Name', 'PassengerId'], axis = 1)\n",
    "test_df = test_df.drop(['Name'], axis = 1)"
   ]
  },
  {
   "cell_type": "code",
   "execution_count": 25,
   "metadata": {
    "execution": {
     "iopub.execute_input": "2022-02-16T08:29:24.705428Z",
     "iopub.status.busy": "2022-02-16T08:29:24.704578Z",
     "iopub.status.idle": "2022-02-16T08:29:24.717036Z",
     "shell.execute_reply": "2022-02-16T08:29:24.715706Z",
     "shell.execute_reply.started": "2022-02-16T08:29:24.705382Z"
    }
   },
   "outputs": [],
   "source": [
    "combine = [train_df, test_df]\n",
    "train_df.shape, test_df.shape"
   ]
  },
  {
   "cell_type": "code",
   "execution_count": 26,
   "metadata": {
    "execution": {
     "iopub.execute_input": "2022-02-16T08:29:24.719644Z",
     "iopub.status.busy": "2022-02-16T08:29:24.718996Z",
     "iopub.status.idle": "2022-02-16T08:29:24.741504Z",
     "shell.execute_reply": "2022-02-16T08:29:24.740588Z",
     "shell.execute_reply.started": "2022-02-16T08:29:24.719594Z"
    }
   },
   "outputs": [],
   "source": [
    "for dataset in combine:\n",
    "    dataset['Sex'] = dataset['Sex'].map({'female': 1, 'male': 0}).astype(int)\n",
    "    \n",
    "train_df.head()"
   ]
  },
  {
   "cell_type": "code",
   "execution_count": 27,
   "metadata": {
    "execution": {
     "iopub.execute_input": "2022-02-16T08:29:24.743693Z",
     "iopub.status.busy": "2022-02-16T08:29:24.743372Z",
     "iopub.status.idle": "2022-02-16T08:29:26.243413Z",
     "shell.execute_reply": "2022-02-16T08:29:26.242225Z",
     "shell.execute_reply.started": "2022-02-16T08:29:24.743651Z"
    }
   },
   "outputs": [],
   "source": [
    "grid = sns.FacetGrid(train_df, row = 'Pclass', col = 'Sex')\n",
    "grid.map(sns.histplot, 'Age')\n",
    "grid.add_legend()"
   ]
  },
  {
   "cell_type": "code",
   "execution_count": 28,
   "metadata": {
    "execution": {
     "iopub.execute_input": "2022-02-16T08:29:26.245101Z",
     "iopub.status.busy": "2022-02-16T08:29:26.244862Z",
     "iopub.status.idle": "2022-02-16T08:29:26.253077Z",
     "shell.execute_reply": "2022-02-16T08:29:26.252197Z",
     "shell.execute_reply.started": "2022-02-16T08:29:26.245072Z"
    }
   },
   "outputs": [],
   "source": [
    "guess_ages = np.zeros((2,3))\n",
    "guess_ages"
   ]
  },
  {
   "cell_type": "code",
   "execution_count": 29,
   "metadata": {
    "execution": {
     "iopub.execute_input": "2022-02-16T08:29:26.254931Z",
     "iopub.status.busy": "2022-02-16T08:29:26.254680Z",
     "iopub.status.idle": "2022-02-16T08:29:26.307982Z",
     "shell.execute_reply": "2022-02-16T08:29:26.306777Z",
     "shell.execute_reply.started": "2022-02-16T08:29:26.254902Z"
    }
   },
   "outputs": [],
   "source": [
    "for dataset in combine:\n",
    "    for i in range(0,2):\n",
    "        for j in range(0,3):\n",
    "            guess_df = dataset[(dataset['Sex'] == i) & (dataset['Pclass'] == j + 1)]['Age'].dropna()\n",
    "            \n",
    "            age_guess = guess_df.median()\n",
    "            \n",
    "            guess_ages[i,j] = int(age_guess/0.5 + 0.5) * 0.5\n",
    "    for i in range(0,2):\n",
    "        for j in range(0,3):\n",
    "            dataset.loc[(dataset.Age.isnull()) & (dataset.Sex == i) & (dataset.Pclass == j+1), 'Age'] = guess_ages[i,j]\n",
    "            \n",
    "    dataset['Age'] = dataset['Age'].astype(int)\n",
    "    \n",
    "train_df.head()"
   ]
  },
  {
   "cell_type": "code",
   "execution_count": 30,
   "metadata": {
    "execution": {
     "iopub.execute_input": "2022-02-16T08:29:26.310542Z",
     "iopub.status.busy": "2022-02-16T08:29:26.309581Z",
     "iopub.status.idle": "2022-02-16T08:29:26.330712Z",
     "shell.execute_reply": "2022-02-16T08:29:26.329599Z",
     "shell.execute_reply.started": "2022-02-16T08:29:26.310502Z"
    }
   },
   "outputs": [],
   "source": [
    "train_df['AgeBand'] = pd.cut(train_df['Age'], 5)\n",
    "train_df[['AgeBand', 'Survived']].groupby(by = 'AgeBand').mean().sort_values(by = 'AgeBand', ascending = True)"
   ]
  },
  {
   "cell_type": "code",
   "execution_count": 31,
   "metadata": {
    "execution": {
     "iopub.execute_input": "2022-02-16T08:29:26.332787Z",
     "iopub.status.busy": "2022-02-16T08:29:26.332511Z",
     "iopub.status.idle": "2022-02-16T08:29:26.368650Z",
     "shell.execute_reply": "2022-02-16T08:29:26.367747Z",
     "shell.execute_reply.started": "2022-02-16T08:29:26.332755Z"
    }
   },
   "outputs": [],
   "source": [
    "for dataset in combine:\n",
    "    dataset.loc[dataset['Age'] <= 16, 'Age'] = 0\n",
    "    dataset.loc[(dataset['Age'] > 16) & (dataset[\"Age\"] <= 32), 'Age'] = 1\n",
    "    dataset.loc[(dataset['Age'] > 32) & (dataset[\"Age\"] <= 48), 'Age'] = 2\n",
    "    dataset.loc[(dataset['Age'] > 48) & (dataset[\"Age\"] <= 64), 'Age'] = 3\n",
    "    dataset.loc[(dataset['Age'] > 64), 'Age'] = 4\n",
    "\n",
    "test_df.tail(30)"
   ]
  },
  {
   "cell_type": "code",
   "execution_count": 32,
   "metadata": {
    "execution": {
     "iopub.execute_input": "2022-02-16T08:29:26.370301Z",
     "iopub.status.busy": "2022-02-16T08:29:26.370060Z",
     "iopub.status.idle": "2022-02-16T08:29:26.385908Z",
     "shell.execute_reply": "2022-02-16T08:29:26.385342Z",
     "shell.execute_reply.started": "2022-02-16T08:29:26.370258Z"
    }
   },
   "outputs": [],
   "source": [
    "train_df = train_df.drop(['AgeBand'], axis = 1)\n",
    "combine = [train_df, test_df]\n",
    "combine[0].head()"
   ]
  },
  {
   "cell_type": "code",
   "execution_count": 33,
   "metadata": {
    "execution": {
     "iopub.execute_input": "2022-02-16T08:29:26.387918Z",
     "iopub.status.busy": "2022-02-16T08:29:26.387088Z",
     "iopub.status.idle": "2022-02-16T08:29:26.410083Z",
     "shell.execute_reply": "2022-02-16T08:29:26.409081Z",
     "shell.execute_reply.started": "2022-02-16T08:29:26.387881Z"
    }
   },
   "outputs": [],
   "source": [
    "for dataset in combine:\n",
    "    dataset['FamilySize'] = dataset['SibSp'] + dataset['Parch'] + 1\n",
    "\n",
    "train_df[['FamilySize', 'Survived']].groupby(by = \"FamilySize\").mean().sort_values(by = 'Survived', ascending = False)"
   ]
  },
  {
   "cell_type": "code",
   "execution_count": 34,
   "metadata": {
    "execution": {
     "iopub.execute_input": "2022-02-16T08:29:26.412216Z",
     "iopub.status.busy": "2022-02-16T08:29:26.411771Z",
     "iopub.status.idle": "2022-02-16T08:29:26.427863Z",
     "shell.execute_reply": "2022-02-16T08:29:26.426943Z",
     "shell.execute_reply.started": "2022-02-16T08:29:26.412182Z"
    }
   },
   "outputs": [],
   "source": [
    "for dataset in combine:\n",
    "    dataset['IsAlone'] = 0\n",
    "    dataset.loc[dataset['FamilySize'] == 1, 'IsAlone'] = 1\n",
    "    \n",
    "train_df[['IsAlone', 'Survived']].groupby(by = 'IsAlone').mean()"
   ]
  },
  {
   "cell_type": "code",
   "execution_count": 35,
   "metadata": {
    "execution": {
     "iopub.execute_input": "2022-02-16T08:29:26.429232Z",
     "iopub.status.busy": "2022-02-16T08:29:26.429001Z",
     "iopub.status.idle": "2022-02-16T08:29:26.437125Z",
     "shell.execute_reply": "2022-02-16T08:29:26.435758Z",
     "shell.execute_reply.started": "2022-02-16T08:29:26.429204Z"
    }
   },
   "outputs": [],
   "source": [
    "train_df = train_df.drop(['Parch', 'SibSp', 'FamilySize'], axis = 1)\n",
    "test_df = test_df.drop(['Parch', 'SibSp', 'FamilySize'], axis = 1)\n",
    "combine = [train_df, test_df]"
   ]
  },
  {
   "cell_type": "code",
   "execution_count": 36,
   "metadata": {
    "execution": {
     "iopub.execute_input": "2022-02-16T08:29:26.439489Z",
     "iopub.status.busy": "2022-02-16T08:29:26.438763Z",
     "iopub.status.idle": "2022-02-16T08:29:26.455802Z",
     "shell.execute_reply": "2022-02-16T08:29:26.454981Z",
     "shell.execute_reply.started": "2022-02-16T08:29:26.439447Z"
    }
   },
   "outputs": [],
   "source": [
    "train_df.head()"
   ]
  },
  {
   "cell_type": "code",
   "execution_count": 37,
   "metadata": {
    "execution": {
     "iopub.execute_input": "2022-02-16T08:29:26.458218Z",
     "iopub.status.busy": "2022-02-16T08:29:26.457216Z",
     "iopub.status.idle": "2022-02-16T08:29:26.472933Z",
     "shell.execute_reply": "2022-02-16T08:29:26.471890Z",
     "shell.execute_reply.started": "2022-02-16T08:29:26.458167Z"
    }
   },
   "outputs": [],
   "source": [
    "for dataset in combine:\n",
    "    dataset['Age*Class'] = dataset.Age * dataset.Pclass\n",
    "\n",
    "train_df.loc[:, ['Age*Class', 'Age', 'Pclass']].head()"
   ]
  },
  {
   "cell_type": "code",
   "execution_count": 38,
   "metadata": {
    "execution": {
     "iopub.execute_input": "2022-02-16T08:29:26.474653Z",
     "iopub.status.busy": "2022-02-16T08:29:26.474347Z",
     "iopub.status.idle": "2022-02-16T08:29:26.493064Z",
     "shell.execute_reply": "2022-02-16T08:29:26.492302Z",
     "shell.execute_reply.started": "2022-02-16T08:29:26.474615Z"
    }
   },
   "outputs": [],
   "source": [
    "freq_port = train_df.Embarked.dropna().mode()[0]\n",
    "freq_port"
   ]
  },
  {
   "cell_type": "code",
   "execution_count": 39,
   "metadata": {
    "execution": {
     "iopub.execute_input": "2022-02-16T08:29:26.494989Z",
     "iopub.status.busy": "2022-02-16T08:29:26.494381Z",
     "iopub.status.idle": "2022-02-16T08:29:26.515851Z",
     "shell.execute_reply": "2022-02-16T08:29:26.514763Z",
     "shell.execute_reply.started": "2022-02-16T08:29:26.494954Z"
    }
   },
   "outputs": [],
   "source": [
    "for dataset in combine:\n",
    "    dataset['Embarked'] = dataset['Embarked'].fillna(freq_port)\n",
    "\n",
    "train_df[['Embarked','Survived']].groupby(by = 'Embarked').mean().sort_values(by = 'Survived', ascending = False)"
   ]
  },
  {
   "cell_type": "code",
   "execution_count": 40,
   "metadata": {
    "execution": {
     "iopub.execute_input": "2022-02-16T08:29:26.520697Z",
     "iopub.status.busy": "2022-02-16T08:29:26.520394Z",
     "iopub.status.idle": "2022-02-16T08:29:26.538954Z",
     "shell.execute_reply": "2022-02-16T08:29:26.537711Z",
     "shell.execute_reply.started": "2022-02-16T08:29:26.520665Z"
    }
   },
   "outputs": [],
   "source": [
    "for dataset in combine:\n",
    "    dataset['Embarked'] = dataset['Embarked'].map({'S' : 0, \"C\": 1, \"Q\": 2}).astype(int)\n",
    "    \n",
    "train_df.head()"
   ]
  },
  {
   "cell_type": "code",
   "execution_count": 41,
   "metadata": {
    "execution": {
     "iopub.execute_input": "2022-02-16T08:29:26.540773Z",
     "iopub.status.busy": "2022-02-16T08:29:26.540513Z",
     "iopub.status.idle": "2022-02-16T08:29:26.558882Z",
     "shell.execute_reply": "2022-02-16T08:29:26.558154Z",
     "shell.execute_reply.started": "2022-02-16T08:29:26.540744Z"
    }
   },
   "outputs": [],
   "source": [
    "test_df['Fare'].fillna(test_df['Fare'].dropna().median(), inplace = True)\n",
    "test_df.head()"
   ]
  },
  {
   "cell_type": "code",
   "execution_count": 42,
   "metadata": {
    "execution": {
     "iopub.execute_input": "2022-02-16T08:29:26.561125Z",
     "iopub.status.busy": "2022-02-16T08:29:26.560090Z",
     "iopub.status.idle": "2022-02-16T08:29:26.581207Z",
     "shell.execute_reply": "2022-02-16T08:29:26.579929Z",
     "shell.execute_reply.started": "2022-02-16T08:29:26.561051Z"
    }
   },
   "outputs": [],
   "source": [
    "test_df.info()"
   ]
  },
  {
   "cell_type": "code",
   "execution_count": 43,
   "metadata": {
    "execution": {
     "iopub.execute_input": "2022-02-16T08:29:26.583928Z",
     "iopub.status.busy": "2022-02-16T08:29:26.583184Z",
     "iopub.status.idle": "2022-02-16T08:29:26.603639Z",
     "shell.execute_reply": "2022-02-16T08:29:26.602919Z",
     "shell.execute_reply.started": "2022-02-16T08:29:26.583889Z"
    }
   },
   "outputs": [],
   "source": [
    "train_df['FareBand'] = pd.qcut(train_df['Fare'], 4)\n",
    "train_df[['FareBand', 'Survived']].groupby(['FareBand']).mean().sort_values(by = 'FareBand', ascending = True)"
   ]
  },
  {
   "cell_type": "code",
   "execution_count": 44,
   "metadata": {
    "execution": {
     "iopub.execute_input": "2022-02-16T08:29:26.605706Z",
     "iopub.status.busy": "2022-02-16T08:29:26.604783Z",
     "iopub.status.idle": "2022-02-16T08:29:26.633571Z",
     "shell.execute_reply": "2022-02-16T08:29:26.632541Z",
     "shell.execute_reply.started": "2022-02-16T08:29:26.605672Z"
    }
   },
   "outputs": [],
   "source": [
    "for dataset in combine:\n",
    "    dataset.loc[dataset['Fare'] <= 7.91, 'Fare'] = 0\n",
    "    dataset.loc[(dataset['Fare'] > 7.91) & (dataset['Fare'] <= 14.454), 'Fare'] = 1\n",
    "    dataset.loc[(dataset['Fare'] > 14.454) & (dataset['Fare'] <= 31), 'Fare'] = 2\n",
    "    dataset.loc[(dataset['Fare'] > 31), 'Fare'] = 3\n",
    "    \n",
    "train_df = train_df.drop(['FareBand'], axis = 1)\n",
    "combine = [train_df, test_df]\n",
    "\n",
    "train_df.head(10)\n",
    "test_df.head(10)"
   ]
  },
  {
   "cell_type": "code",
   "execution_count": 45,
   "metadata": {
    "execution": {
     "iopub.execute_input": "2022-02-16T08:29:26.636011Z",
     "iopub.status.busy": "2022-02-16T08:29:26.634875Z",
     "iopub.status.idle": "2022-02-16T08:29:26.660673Z",
     "shell.execute_reply": "2022-02-16T08:29:26.659644Z",
     "shell.execute_reply.started": "2022-02-16T08:29:26.635958Z"
    }
   },
   "outputs": [],
   "source": [
    "train_df.head(10)"
   ]
  },
  {
   "cell_type": "code",
   "execution_count": 47,
   "metadata": {
    "execution": {
     "iopub.execute_input": "2022-02-16T08:33:31.117786Z",
     "iopub.status.busy": "2022-02-16T08:33:31.117114Z",
     "iopub.status.idle": "2022-02-16T08:33:31.132837Z",
     "shell.execute_reply": "2022-02-16T08:33:31.131885Z",
     "shell.execute_reply.started": "2022-02-16T08:33:31.117741Z"
    }
   },
   "outputs": [],
   "source": [
    "X_train = train_df.drop(\"Survived\", axis = 1)\n",
    "Y_train = train_df[\"Survived\"]\n",
    "X_test = test_df.drop(\"PassengerId\", axis =1).copy()\n",
    "X_train.shape, Y_train.shape, X_test.shape"
   ]
  },
  {
   "cell_type": "code",
   "execution_count": 49,
   "metadata": {
    "execution": {
     "iopub.execute_input": "2022-02-16T08:37:10.085487Z",
     "iopub.status.busy": "2022-02-16T08:37:10.085122Z",
     "iopub.status.idle": "2022-02-16T08:37:10.113719Z",
     "shell.execute_reply": "2022-02-16T08:37:10.112859Z",
     "shell.execute_reply.started": "2022-02-16T08:37:10.085449Z"
    }
   },
   "outputs": [],
   "source": [
    "logreg = LogisticRegression()\n",
    "logreg.fit(X_train, Y_train)\n",
    "Y_pred = logreg.predict(X_test)\n",
    "acc_log = round(logreg.score(X_train, Y_train) * 100, 2)"
   ]
  },
  {
   "cell_type": "code",
   "execution_count": 50,
   "metadata": {
    "execution": {
     "iopub.execute_input": "2022-02-16T08:37:16.679359Z",
     "iopub.status.busy": "2022-02-16T08:37:16.678862Z",
     "iopub.status.idle": "2022-02-16T08:37:16.686010Z",
     "shell.execute_reply": "2022-02-16T08:37:16.685358Z",
     "shell.execute_reply.started": "2022-02-16T08:37:16.679318Z"
    }
   },
   "outputs": [],
   "source": [
    "acc_log"
   ]
  },
  {
   "cell_type": "code",
   "execution_count": 51,
   "metadata": {
    "execution": {
     "iopub.execute_input": "2022-02-16T08:42:42.424397Z",
     "iopub.status.busy": "2022-02-16T08:42:42.424029Z",
     "iopub.status.idle": "2022-02-16T08:42:42.443201Z",
     "shell.execute_reply": "2022-02-16T08:42:42.442486Z",
     "shell.execute_reply.started": "2022-02-16T08:42:42.424360Z"
    }
   },
   "outputs": [],
   "source": [
    "coeff_df = pd.DataFrame(train_df.columns.delete(0))\n",
    "coeff_df.columns = ['Feature']\n",
    "coeff_df['Correlation'] = pd.Series(logreg.coef_[0])\n",
    "\n",
    "coeff_df.sort_values(by = 'Correlation', ascending = False)"
   ]
  },
  {
   "cell_type": "code",
   "execution_count": 52,
   "metadata": {
    "execution": {
     "iopub.execute_input": "2022-02-16T08:46:20.052168Z",
     "iopub.status.busy": "2022-02-16T08:46:20.051801Z",
     "iopub.status.idle": "2022-02-16T08:46:20.101628Z",
     "shell.execute_reply": "2022-02-16T08:46:20.100371Z",
     "shell.execute_reply.started": "2022-02-16T08:46:20.052127Z"
    }
   },
   "outputs": [],
   "source": [
    "svc = SVC()\n",
    "svc.fit(X_train, Y_train)\n",
    "Y_pred = svc.predict(X_test)\n",
    "acc_svc = round(svc.score(X_train, Y_train) * 100, 2)\n",
    "acc_svc"
   ]
  },
  {
   "cell_type": "code",
   "execution_count": 54,
   "metadata": {
    "execution": {
     "iopub.execute_input": "2022-02-16T08:48:37.068065Z",
     "iopub.status.busy": "2022-02-16T08:48:37.067329Z",
     "iopub.status.idle": "2022-02-16T08:48:37.143226Z",
     "shell.execute_reply": "2022-02-16T08:48:37.142154Z",
     "shell.execute_reply.started": "2022-02-16T08:48:37.068005Z"
    }
   },
   "outputs": [],
   "source": [
    "knn = KNeighborsClassifier(n_neighbors = 3)\n",
    "knn.fit(X_train, Y_train)\n",
    "Y_pred = knn.predict(X_test)\n",
    "acc_knn = round(knn.score(X_train, Y_train) * 100, 2)\n",
    "acc_knn"
   ]
  },
  {
   "cell_type": "code",
   "execution_count": 55,
   "metadata": {
    "execution": {
     "iopub.execute_input": "2022-02-16T08:50:14.346681Z",
     "iopub.status.busy": "2022-02-16T08:50:14.346253Z",
     "iopub.status.idle": "2022-02-16T08:50:14.364820Z",
     "shell.execute_reply": "2022-02-16T08:50:14.364001Z",
     "shell.execute_reply.started": "2022-02-16T08:50:14.346645Z"
    }
   },
   "outputs": [],
   "source": [
    "gaussian = GaussianNB()\n",
    "gaussian.fit(X_train, Y_train)\n",
    "Y_pred = gaussian.predict(X_test)\n",
    "acc_gaussian = round(gaussian.score(X_train, Y_train) * 100, 2)\n",
    "acc_gaussian"
   ]
  },
  {
   "cell_type": "code",
   "execution_count": 56,
   "metadata": {
    "execution": {
     "iopub.execute_input": "2022-02-16T08:51:57.598912Z",
     "iopub.status.busy": "2022-02-16T08:51:57.598152Z",
     "iopub.status.idle": "2022-02-16T08:51:57.621586Z",
     "shell.execute_reply": "2022-02-16T08:51:57.620350Z",
     "shell.execute_reply.started": "2022-02-16T08:51:57.598868Z"
    }
   },
   "outputs": [],
   "source": [
    "perceptron = Perceptron()\n",
    "perceptron.fit(X_train, Y_train)\n",
    "Y_pred = perceptron.predict(X_test)\n",
    "acc_perceptron = round(perceptron.score(X_train, Y_train) * 100, 2)\n",
    "acc_perceptron"
   ]
  },
  {
   "cell_type": "code",
   "execution_count": 57,
   "metadata": {
    "execution": {
     "iopub.execute_input": "2022-02-16T08:54:07.959902Z",
     "iopub.status.busy": "2022-02-16T08:54:07.959520Z",
     "iopub.status.idle": "2022-02-16T08:54:07.981441Z",
     "shell.execute_reply": "2022-02-16T08:54:07.980366Z",
     "shell.execute_reply.started": "2022-02-16T08:54:07.959861Z"
    }
   },
   "outputs": [],
   "source": [
    "decision_tree = DecisionTreeClassifier()\n",
    "decision_tree.fit(X_train, Y_train)\n",
    "Y_pred = decision_tree.predict(X_test)\n",
    "acc_decision_tree = round(decision_tree.score(X_train, Y_train) * 100 ,2)\n",
    "acc_decision_tree"
   ]
  },
  {
   "cell_type": "code",
   "execution_count": 61,
   "metadata": {
    "execution": {
     "iopub.execute_input": "2022-02-16T08:57:12.651465Z",
     "iopub.status.busy": "2022-02-16T08:57:12.651108Z",
     "iopub.status.idle": "2022-02-16T08:57:12.921522Z",
     "shell.execute_reply": "2022-02-16T08:57:12.920331Z",
     "shell.execute_reply.started": "2022-02-16T08:57:12.651427Z"
    }
   },
   "outputs": [],
   "source": [
    "random_forest = RandomForestClassifier(n_estimators = 100)\n",
    "random_forest.fit(X_train, Y_train)\n",
    "Y_pred = random_forest.predict(X_test)\n",
    "acc_random_forest = round(random_forest.score(X_train, Y_train) * 100, 2)\n",
    "acc_random_forest"
   ]
  },
  {
   "cell_type": "code",
   "execution_count": 64,
   "metadata": {
    "execution": {
     "iopub.execute_input": "2022-02-16T09:02:08.270597Z",
     "iopub.status.busy": "2022-02-16T09:02:08.269979Z",
     "iopub.status.idle": "2022-02-16T09:02:08.303341Z",
     "shell.execute_reply": "2022-02-16T09:02:08.302003Z",
     "shell.execute_reply.started": "2022-02-16T09:02:08.270536Z"
    }
   },
   "outputs": [],
   "source": [
    "submission = pd.DataFrame({'PassengerID' : test_df[\"PassengerId\"], \"Survived\": Y_pred})\n",
    "submission.to_csv('C:/Users/forma/Desktop/Programming', index = False)"
   ]
  },
  {
   "cell_type": "code",
   "execution_count": null,
   "metadata": {},
   "outputs": [],
   "source": []
  }
 ],
 "metadata": {
  "kernelspec": {
   "display_name": "Python 3 (ipykernel)",
   "language": "python",
   "name": "python3"
  },
  "language_info": {
   "codemirror_mode": {
    "name": "ipython",
    "version": 3
   },
   "file_extension": ".py",
   "mimetype": "text/x-python",
   "name": "python",
   "nbconvert_exporter": "python",
   "pygments_lexer": "ipython3",
   "version": "3.9.7"
  }
 },
 "nbformat": 4,
 "nbformat_minor": 4
}
